{
 "cells": [
  {
   "cell_type": "code",
   "execution_count": null,
   "metadata": {},
   "outputs": [],
   "source": [
    "import pandas as pd\n",
    "import numpy as np"
   ]
  },
  {
   "cell_type": "code",
   "execution_count": null,
   "metadata": {},
   "outputs": [],
   "source": [
    "# read in the data\n",
    "df = pd.read_csv('data/tmdb_movies_data.csv')\n",
    "df"
   ]
  },
  {
   "cell_type": "code",
   "execution_count": null,
   "metadata": {},
   "outputs": [],
   "source": [
    "# printing data with all columns\n",
    "pd.set_option('display.max_columns', None)\n",
    "df.head()"
   ]
  },
  {
   "cell_type": "code",
   "execution_count": null,
   "metadata": {},
   "outputs": [],
   "source": [
    "df.info()"
   ]
  },
  {
   "cell_type": "code",
   "execution_count": null,
   "metadata": {},
   "outputs": [],
   "source": [
    "df.describe()\n"
   ]
  },
  {
   "cell_type": "code",
   "execution_count": null,
   "metadata": {},
   "outputs": [],
   "source": [
    "# handle null values\n",
    "df.isnull().sum()"
   ]
  },
  {
   "cell_type": "code",
   "execution_count": null,
   "metadata": {},
   "outputs": [],
   "source": [
    "# dropping imdb_id, homepage, tagline, overview, and production_companies columns\n",
    "df.drop(['imdb_id', 'homepage', 'tagline', 'overview', 'production_companies'], axis=1, inplace=True)"
   ]
  },
  {
   "cell_type": "code",
   "execution_count": null,
   "metadata": {},
   "outputs": [],
   "source": [
    "# drop budget and revenue columns \n",
    "df.drop('budget', axis=1, inplace=True)\n",
    "df.drop('revenue', axis=1, inplace=True)"
   ]
  },
  {
   "cell_type": "code",
   "execution_count": null,
   "metadata": {},
   "outputs": [],
   "source": [
    "# dropping rows with null values\n",
    "df.dropna(inplace=True)"
   ]
  },
  {
   "cell_type": "code",
   "execution_count": null,
   "metadata": {},
   "outputs": [],
   "source": [
    "df.head()"
   ]
  },
  {
   "cell_type": "code",
   "execution_count": null,
   "metadata": {},
   "outputs": [],
   "source": [
    "# Replacing | with \" \" in cast, genres, keywords\n",
    "df['cast'] = df['cast'].str.replace('|', ' ')\n",
    "df['genres'] = df['genres'].str.replace('|', ' ')\n",
    "df['keywords'] = df['keywords'].str.replace('|', ' ')\n"
   ]
  },
  {
   "cell_type": "code",
   "execution_count": null,
   "metadata": {},
   "outputs": [],
   "source": [
    "df.head()"
   ]
  },
  {
   "cell_type": "code",
   "execution_count": null,
   "metadata": {},
   "outputs": [],
   "source": [
    "# check duplicates\n",
    "dup = df.duplicated().sum()\n",
    "print('Number of duplicates: ', dup)\n"
   ]
  },
  {
   "cell_type": "code",
   "execution_count": null,
   "metadata": {},
   "outputs": [],
   "source": [
    "# remove duplicates\n",
    "df.drop_duplicates(inplace=True)"
   ]
  },
  {
   "cell_type": "code",
   "execution_count": null,
   "metadata": {},
   "outputs": [],
   "source": [
    "# Feature Engineering\n",
    "# create new column for profit\n",
    "df['profit'] = df['revenue_adj'] - df['budget_adj']\n",
    "df.head()\n",
    "\n",
    "# create new column for release month\n",
    "df['release_month'] = pd.to_datetime(df['release_date']).dt.month\n",
    "# create new column for release quarter\n",
    "\n"
   ]
  },
  {
   "cell_type": "code",
   "execution_count": null,
   "metadata": {},
   "outputs": [],
   "source": [
    "df.describe()"
   ]
  },
  {
   "cell_type": "code",
   "execution_count": null,
   "metadata": {},
   "outputs": [],
   "source": [
    "# replace all nan values with 0 for numeric columns and 'None' for string columns\n",
    "numerical_features  = ['runtime', 'budget_adj', 'revenue_adj', 'vote_count', 'vote_average']\n",
    "categorical_features = ['cast', 'director', 'genres', 'keywords', 'release_date', 'release_month']\n",
    "\n",
    "for col in numerical_features:\n",
    "    df[col].fillna(0, inplace=True)\n",
    "\n",
    "for col in categorical_features:\n",
    "    df[col].fillna('None', inplace=True)\n"
   ]
  },
  {
   "cell_type": "code",
   "execution_count": null,
   "metadata": {},
   "outputs": [],
   "source": [
    "# display nan values\n",
    "df.isnull().sum()\n"
   ]
  },
  {
   "cell_type": "code",
   "execution_count": null,
   "metadata": {},
   "outputs": [],
   "source": [
    "# make title lowercase\n",
    "df['original_title'] = df['original_title'].str.lower()\n",
    "df"
   ]
  },
  {
   "cell_type": "code",
   "execution_count": null,
   "metadata": {},
   "outputs": [],
   "source": [
    "import regex as re\n",
    "\n",
    "# remove all non-alphanumeric characters\n",
    "df['original_title'] = df['original_title'].apply(lambda x: re.sub(r'\\W+', ' ', x))\n",
    "df"
   ]
  },
  {
   "cell_type": "code",
   "execution_count": null,
   "metadata": {},
   "outputs": [],
   "source": [
    "# save the df as df.csv\n",
    "df.to_csv('data/df_v2.csv', index=False)\n"
   ]
  },
  {
   "cell_type": "code",
   "execution_count": null,
   "metadata": {},
   "outputs": [],
   "source": []
  },
  {
   "cell_type": "code",
   "execution_count": null,
   "metadata": {},
   "outputs": [],
   "source": [
    "import matplotlib.pyplot as plt\n",
    "import seaborn as sns\n"
   ]
  },
  {
   "cell_type": "code",
   "execution_count": null,
   "metadata": {},
   "outputs": [],
   "source": [
    "# draw subplots for all numerical features\n",
    "fig, axes = plt.subplots(3, 2, figsize=(15, 10))\n",
    "fig.suptitle('Distribution of Numerical Features')\n",
    "\n",
    "sns.histplot(ax=axes[0, 0], x='runtime', data=df, kde=True)\n",
    "axes[0, 0].set_title('Runtime')\n",
    "\n",
    "sns.histplot(ax=axes[0, 1], x='vote_average', data=df, kde=True)\n",
    "axes[0, 1].set_title('Vote Average')\n",
    "\n",
    "sns.histplot(ax=axes[1, 0], x='vote_count', data=df, kde=True)\n",
    "axes[1, 0].set_title('Vote Count')\n",
    "\n",
    "sns.histplot(ax=axes[1, 1], x='release_year', data=df, kde=True)\n",
    "axes[1, 1].set_title('Release Year')\n",
    "\n",
    "sns.histplot(ax=axes[2, 0], x='budget_adj', data=df, kde=True)\n",
    "axes[2, 0].set_title('Budget')\n",
    "\n",
    "sns.histplot(ax=axes[2, 1], x='revenue_adj', data=df, kde=True)\n",
    "axes[2, 1].set_title('Revenue')\n",
    "\n",
    "plt.show()"
   ]
  },
  {
   "cell_type": "code",
   "execution_count": null,
   "metadata": {},
   "outputs": [],
   "source": [
    "# draw heatmap without id, imdb_id, releaes_year\n",
    "plt.figure(figsize=(10, 10))\n",
    "# sns.heatmap(df.corr(), annot=True, cmap='coolwarm')\n",
    "sns.heatmap(df.corr(), annot=True, cmap='coolwarm', vmin=-1, vmax=1)\n",
    "# plt.show()"
   ]
  },
  {
   "cell_type": "code",
   "execution_count": null,
   "metadata": {},
   "outputs": [],
   "source": [
    "# Feature Engineering\n",
    "sns.pairplot(df[['popularity', 'budget_adj', 'revenue_adj', 'runtime', 'vote_count']])\n",
    "plt.suptitle('Pairplot of Numerical Features', y=1.02)\n",
    "plt.show()\n"
   ]
  },
  {
   "cell_type": "code",
   "execution_count": null,
   "metadata": {},
   "outputs": [],
   "source": [
    "# looking for outliers with subplots\n",
    "fig, axes = plt.subplots(4, 2, figsize=(15, 10))\n",
    "fig.suptitle('Distribution of Numerical Features')\n",
    "\n",
    "sns.boxplot(ax=axes[0, 0], x='runtime', data=df)\n",
    "axes[0, 0].set_title('Runtime')\n",
    "\n",
    "sns.boxplot(ax=axes[0, 1], x='vote_average', data=df)\n",
    "axes[0, 1].set_title('Vote Average')\n",
    "\n",
    "sns.boxplot(ax=axes[1, 0], x='vote_count', data=df)\n",
    "axes[1, 0].set_title('Vote Count')\n",
    "\n",
    "sns.boxplot(ax=axes[1, 1], x='release_year', data=df)\n",
    "axes[1, 1].set_title('Release Year')\n",
    "\n",
    "sns.boxplot(ax=axes[2, 0], x='budget_adj', data=df)\n",
    "axes[2, 0].set_title('Budget')\n",
    "\n",
    "sns.boxplot(ax=axes[2, 1], x='revenue_adj', data=df)\n",
    "axes[2, 1].set_title('Revenue')\n",
    "\n",
    "sns.boxplot(ax=axes[3, 0], x='popularity', data=df)\n",
    "axes[3, 0].set_title('Popularity')\n",
    "\n",
    "sns.boxplot(ax=axes[3, 1], x='profit', data=df)\n",
    "axes[3, 1].set_title('Profit')\n",
    "plt.show()\n"
   ]
  },
  {
   "cell_type": "code",
   "execution_count": null,
   "metadata": {},
   "outputs": [],
   "source": [
    "# plot release month wiht names\n",
    "plt.figure(figsize=(10, 10))\n",
    "sns.countplot(x='release_month', data=df)\n",
    "plt.title('Number of Movies Released per Month')\n",
    "plt.show()"
   ]
  },
  {
   "cell_type": "code",
   "execution_count": null,
   "metadata": {},
   "outputs": [],
   "source": [
    "df.head()\n"
   ]
  },
  {
   "cell_type": "code",
   "execution_count": null,
   "metadata": {},
   "outputs": [],
   "source": [
    "df.columns"
   ]
  },
  {
   "cell_type": "code",
   "execution_count": null,
   "metadata": {},
   "outputs": [],
   "source": [
    "df.info() "
   ]
  },
  {
   "cell_type": "code",
   "execution_count": null,
   "metadata": {},
   "outputs": [],
   "source": [
    "# # drop popularity, vote_count, ,release_month, budget_adj, revenue_adj\n",
    "# df.drop(['popularity', 'vote_count', 'release_month', 'budget_adj', 'revenue_adj'], axis=1, inplace=True)"
   ]
  },
  {
   "cell_type": "code",
   "execution_count": null,
   "metadata": {},
   "outputs": [],
   "source": [
    "df.describe()"
   ]
  },
  {
   "cell_type": "code",
   "execution_count": null,
   "metadata": {},
   "outputs": [],
   "source": [
    "# drop rows with runtime = 0 and runtime > 300\n",
    "df.drop(df[(df['runtime'] < 91) | (df['runtime'] > 300)].index, inplace=True)"
   ]
  },
  {
   "cell_type": "code",
   "execution_count": null,
   "metadata": {},
   "outputs": [],
   "source": [
    "df.info()"
   ]
  },
  {
   "cell_type": "code",
   "execution_count": null,
   "metadata": {},
   "outputs": [],
   "source": [
    "# drop if vote count below 5.4\n",
    "df.drop(df[df['vote_count'] < 5.4].index, inplace=True)"
   ]
  },
  {
   "cell_type": "code",
   "execution_count": null,
   "metadata": {},
   "outputs": [],
   "source": [
    "df.info()"
   ]
  },
  {
   "cell_type": "code",
   "execution_count": null,
   "metadata": {},
   "outputs": [],
   "source": [
    "# drop before 1960\n",
    "df.drop(df[df['release_year'] < 1960].index, inplace=True)"
   ]
  },
  {
   "cell_type": "code",
   "execution_count": null,
   "metadata": {},
   "outputs": [],
   "source": [
    "# drop vote count and release month\n",
    "df.drop('vote_count', axis=1, inplace=True)\n",
    "df.drop('release_month', axis=1, inplace=True)\n",
    "df.drop('id', axis=1, inplace=True)"
   ]
  },
  {
   "cell_type": "code",
   "execution_count": null,
   "metadata": {},
   "outputs": [],
   "source": [
    "df.describe()"
   ]
  },
  {
   "cell_type": "code",
   "execution_count": null,
   "metadata": {},
   "outputs": [],
   "source": [
    "# drop if budget_adj < 100000\n",
    "df.drop(df[df['budget_adj'] < 1_00_000].index, inplace=True)"
   ]
  },
  {
   "cell_type": "code",
   "execution_count": null,
   "metadata": {},
   "outputs": [],
   "source": [
    "df.info()"
   ]
  },
  {
   "cell_type": "code",
   "execution_count": null,
   "metadata": {},
   "outputs": [],
   "source": [
    "df.describe()"
   ]
  },
  {
   "cell_type": "code",
   "execution_count": null,
   "metadata": {},
   "outputs": [],
   "source": [
    "# drop vote_average < 5.4\n",
    "df.drop(df[df['vote_average'] < 5.4].index, inplace=True)"
   ]
  },
  {
   "cell_type": "code",
   "execution_count": null,
   "metadata": {},
   "outputs": [],
   "source": [
    "# looking for outliers with subplots\n",
    "fig, axes = plt.subplots(4, 2, figsize=(15, 20))\n",
    "fig.suptitle('Distribution of Numerical Features')\n",
    "\n",
    "sns.boxplot(ax=axes[0, 0], x='runtime', data=df)\n",
    "axes[0, 0].set_title('Runtime')\n",
    "\n",
    "sns.boxplot(ax=axes[0, 1], x='vote_average', data=df)\n",
    "axes[0, 1].set_title('Vote Average')\n",
    "\n",
    "# sns.boxplot(ax=axes[1, 0], x='vote_count', data=df)\n",
    "# axes[1, 0].set_title('Vote Count')\n",
    "\n",
    "sns.boxplot(ax=axes[1, 1], x='release_year', data=df)\n",
    "axes[1, 1].set_title('Release Year')\n",
    "\n",
    "sns.boxplot(ax=axes[2, 0], x='budget_adj', data=df)\n",
    "axes[2, 0].set_title('Budget')\n",
    "\n",
    "sns.boxplot(ax=axes[2, 1], x='revenue_adj', data=df)\n",
    "axes[2, 1].set_title('Revenue')\n",
    "\n",
    "sns.boxplot(ax=axes[3, 0], x='popularity', data=df)\n",
    "axes[3, 0].set_title('Popularity')\n",
    "\n",
    "sns.boxplot(ax=axes[3, 1], x='profit', data=df)\n",
    "axes[3, 1].set_title('Profit')\n",
    "plt.show()\n"
   ]
  },
  {
   "cell_type": "code",
   "execution_count": null,
   "metadata": {},
   "outputs": [],
   "source": [
    "df.info()"
   ]
  },
  {
   "cell_type": "code",
   "execution_count": null,
   "metadata": {},
   "outputs": [],
   "source": [
    "# drop popularity, relase_date, budget_adj, revenue_adj, profit\n",
    "df.drop(['popularity', 'release_date', 'budget_adj', 'revenue_adj', 'profit'], axis=1, inplace=True)\n",
    "df.head()"
   ]
  },
  {
   "cell_type": "code",
   "execution_count": null,
   "metadata": {},
   "outputs": [],
   "source": [
    "# save as df3.csv\n",
    "df.to_csv('data/df_v3.csv', index=False)\n"
   ]
  },
  {
   "cell_type": "code",
   "execution_count": null,
   "metadata": {},
   "outputs": [],
   "source": []
  }
 ],
 "metadata": {
  "kernelspec": {
   "display_name": "Python 3",
   "language": "python",
   "name": "python3"
  },
  "language_info": {
   "codemirror_mode": {
    "name": "ipython",
    "version": 3
   },
   "file_extension": ".py",
   "mimetype": "text/x-python",
   "name": "python",
   "nbconvert_exporter": "python",
   "pygments_lexer": "ipython3",
   "version": "3.10.7"
  }
 },
 "nbformat": 4,
 "nbformat_minor": 2
}
